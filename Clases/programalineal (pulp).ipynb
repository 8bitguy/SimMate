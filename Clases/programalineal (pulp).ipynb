{
 "cells": [
  {
   "cell_type": "markdown",
   "metadata": {},
   "source": [
    "# Programación lineal"
   ]
  },
  {
   "cell_type": "code",
   "execution_count": 31,
   "metadata": {},
   "outputs": [],
   "source": [
    "# !pip install pulp\n",
    "#pulp.LpVariable?"
   ]
  },
  {
   "cell_type": "markdown",
   "metadata": {},
   "source": [
    "## Utilizando pulp"
   ]
  },
  {
   "cell_type": "code",
   "execution_count": 4,
   "metadata": {
    "collapsed": true
   },
   "outputs": [],
   "source": [
    "from pulp import * "
   ]
  },
  {
   "cell_type": "code",
   "execution_count": 15,
   "metadata": {},
   "outputs": [],
   "source": [
    "mi_lp_problema = pulp.LpProblem('Mi LP Problema', pulp.LpMinimize)\n",
    "\n",
    "x = pulp.LpVariable('x', lowBound=0, cat='Continuous')\n",
    "y = pulp.LpVariable('y', lowBound=0, cat='Continuous')\n",
    "\n",
    "#Objective function\n",
    "mi_lp_problema += x + 2*y\n",
    "\n",
    "#Constraints\n",
    "mi_lp_problema += 3*x + 4*y >= 1\n",
    "mi_lp_problema += 2*x + 5*y >= 2"
   ]
  },
  {
   "cell_type": "code",
   "execution_count": 21,
   "metadata": {},
   "outputs": [
    {
     "data": {
      "text/plain": [
       "Mi LP Problema:\n",
       "MINIMIZE\n",
       "1*x + 2*y + 0\n",
       "SUBJECT TO\n",
       "_C1: 3 x + 4 y >= 1\n",
       "\n",
       "_C2: 2 x + 5 y >= 2\n",
       "\n",
       "VARIABLES\n",
       "x Continuous\n",
       "y Continuous"
      ]
     },
     "execution_count": 21,
     "metadata": {},
     "output_type": "execute_result"
    }
   ],
   "source": [
    "mi_lp_problema"
   ]
  },
  {
   "cell_type": "code",
   "execution_count": 23,
   "metadata": {},
   "outputs": [
    {
     "data": {
      "text/plain": [
       "'Optimal'"
      ]
     },
     "execution_count": 23,
     "metadata": {},
     "output_type": "execute_result"
    }
   ],
   "source": [
    "mi_lp_problema.solve()\n",
    "pulp.LpStatus[mi_lp_problema.status]"
   ]
  },
  {
   "cell_type": "code",
   "execution_count": 24,
   "metadata": {},
   "outputs": [
    {
     "name": "stdout",
     "output_type": "stream",
     "text": [
      "x = 0.0\n",
      "y = 0.4\n"
     ]
    }
   ],
   "source": [
    "for variable in mi_lp_problema.variables():\n",
    "    print('{} = {}'.format(variable.name, variable.varValue))"
   ]
  },
  {
   "cell_type": "code",
   "execution_count": 30,
   "metadata": {},
   "outputs": [],
   "source": [
    "# !pip install cvxopt"
   ]
  },
  {
   "cell_type": "markdown",
   "metadata": {},
   "source": [
    "## Utilizando cvxopt"
   ]
  },
  {
   "cell_type": "code",
   "execution_count": 29,
   "metadata": {},
   "outputs": [
    {
     "name": "stdout",
     "output_type": "stream",
     "text": [
      "     pcost       dcost       gap    pres   dres   k/t\n",
      " 0:  3.2692e-01  1.3462e+00  8e+00  2e+00  5e+00  1e+00\n",
      " 1:  9.1943e-01  9.3094e-01  1e+00  2e-01  7e-01  9e-03\n",
      " 2:  8.0749e-01  8.1424e-01  3e-02  1e-02  4e-02  7e-03\n",
      " 3:  8.0007e-01  8.0014e-01  3e-04  1e-04  4e-04  7e-05\n",
      " 4:  8.0000e-01  8.0000e-01  3e-06  1e-06  4e-06  7e-07\n",
      " 5:  8.0000e-01  8.0000e-01  3e-08  1e-08  4e-08  7e-09\n",
      "Optimal solution found.\n",
      "[ 5.45e-08]\n",
      "[ 4.00e-01]\n",
      "\n"
     ]
    }
   ],
   "source": [
    "from cvxopt import matrix, solvers\n",
    "\n",
    "A = matrix([ [-3.0, -2.0, -1.0, 0.0],\n",
    "           [-4.0, -5.0, 0.0, -1.0] ])\n",
    "\n",
    "b = matrix([ 1.0, -2.0, 0.0, 0.0])\n",
    "c = matrix([ 1.0, 2.0])\n",
    "sol=solvers.lp(c,A,b)\n",
    "\n",
    "print(sol['x'])"
   ]
  },
  {
   "cell_type": "markdown",
   "metadata": {},
   "source": [
    "## Con pulp\n",
    "\n",
    "$$\n",
    "\\begin{array}{11}\n",
    "\\mbox{minimize} & 2x_1 + x_2 \\\\\n",
    "\\mbox{subject to} & -x_1 + x_2 \\leq 1\\\\\n",
    "        & x_1 + x_2 \\geq 2 \\\\\n",
    "        & x_2 \\geq 0 \\\\\n",
    "        & x_1 - 2x_2 \\leq 4\n",
    "\\end{array}\n",
    "$$"
   ]
  },
  {
   "cell_type": "code",
   "execution_count": 53,
   "metadata": {},
   "outputs": [
    {
     "data": {
      "text/plain": [
       "'Optimal'"
      ]
     },
     "execution_count": 53,
     "metadata": {},
     "output_type": "execute_result"
    }
   ],
   "source": [
    "## RESOLVIENDO UN SISTEMA LINEAL CON PULP ##\n",
    "\n",
    "from pulp import *\n",
    "\n",
    "#delimita la operación: minimizar\n",
    "mi_lp_problema = pulp.LpProblem('Mi LP Problema', pulp.LpMinimize) \n",
    "\n",
    "x1 = pulp.LpVariable('x', lowBound=0, cat='Continuous')\n",
    "x2 = pulp.LpVariable('y', lowBound=0, cat='Continuous')\n",
    "\n",
    "#Objective function\n",
    "mi_lp_problema += 2*x1 + x2\n",
    "\n",
    "#Constraints\n",
    "mi_lp_problema += -x1 + x2 <= 1\n",
    "mi_lp_problema += x1 + x2 >= 2\n",
    "mi_lp_problema += x2 >= 0\n",
    "mi_lp_problema += x1 - 2*x2 <= 4\n",
    "\n",
    "mi_lp_problema.solve() #resuelve el problema de minimizar\n",
    "pulp.LpStatus[mi_lp_problema.status] #da un status de optimo, no status, no feasible, etc."
   ]
  },
  {
   "cell_type": "code",
   "execution_count": 55,
   "metadata": {},
   "outputs": [
    {
     "name": "stdout",
     "output_type": "stream",
     "text": [
      "Mi LP Problema:\n",
      "MINIMIZE\n",
      "2*x + 1*y + 0\n",
      "SUBJECT TO\n",
      "_C1: - x + y <= 1\n",
      "\n",
      "_C2: x + y >= 2\n",
      "\n",
      "_C3: y >= 0\n",
      "\n",
      "_C4: x - 2 y <= 4\n",
      "\n",
      "VARIABLES\n",
      "x Continuous\n",
      "y Continuous\n",
      "\n",
      "x = 0.5\n",
      "y = 1.5\n",
      "2.5\n"
     ]
    }
   ],
   "source": [
    "print(mi_lp_problema) #datos de ecuacion parametricas y objetivo\n",
    "\n",
    "for variable in mi_lp_problema.variables(): #imprime en 'for' cada una de las variables \n",
    "    print('{} = {}'.format(variable.name, variable.varValue))\n",
    "    \n",
    "print(pulp.value(mi_lp_problema.objective)) #imprime el resultado de la función objetivo"
   ]
  },
  {
   "cell_type": "code",
   "execution_count": null,
   "metadata": {
    "collapsed": true
   },
   "outputs": [],
   "source": []
  }
 ],
 "metadata": {
  "kernelspec": {
   "display_name": "Python 3",
   "language": "python",
   "name": "python3"
  },
  "language_info": {
   "codemirror_mode": {
    "name": "ipython",
    "version": 3
   },
   "file_extension": ".py",
   "mimetype": "text/x-python",
   "name": "python",
   "nbconvert_exporter": "python",
   "pygments_lexer": "ipython3",
   "version": "3.6.1"
  }
 },
 "nbformat": 4,
 "nbformat_minor": 2
}
