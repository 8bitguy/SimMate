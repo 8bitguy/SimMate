{
 "cells": [
  {
   "cell_type": "markdown",
   "metadata": {},
   "source": [
    "# Examen Módulo 1 - Ecuaciones diferenciales. <font color =blue> Tipo de examen 1.  </font>\n",
    "\n",
    "Lea cuidadosamente las siguientes indicaciones antes de comenzar el examen:\n",
    "\n",
    "- Para resolver el examen edite este mismo archivo y renómbrelo de la siguiente manera: *Examen1_ApellidoNombre*, donde *ApellidoNombre* corresponde a su apellido paterno con la inicial en mayúscula, seguido de su primer nombre con la inicial en mayúscula **sin acentos**. Por ejemplo, en mi caso el nombre del archivo sería Examen1_LopezMichel.\n",
    "- Resuelva los puntos en el espacio provisto. Si requiere agregar más celdas para código o escritura, hágalo.\n",
    "- Recuerde que también se está evaluando su capacidad de interpretar los resultados. Escriba sus interpretaciones/conclusiones en celdas utilizando *Markdown*.\n",
    "- El formato de presentación de todo el examen en general debe ser adecuado. Use tamaños de letra, colores, etiquetas, etcétera.\n",
    "- No se resuelven dudas de ningún tipo por los profesores de la asignatura. Por favor, absténgase de preguntar.\n",
    "- Revise bien el tipo de examen. Sólo se le calificará si realiza el tipo de examen asignado."
   ]
  },
  {
   "cell_type": "markdown",
   "metadata": {},
   "source": [
    "# Las cosas del amor.\n",
    "\n",
    "Consideramos un modelo simple de la dinámica del amor/odio en una pareja, propuesto por Strogatz en 1988.\n",
    "\n",
    "- Strogatz, S.H. (1988) *Love affairs and differential equations*, Math. Magazine 61, 35."
   ]
  },
  {
   "cell_type": "markdown",
   "metadata": {},
   "source": [
    "### Primer punto (50 puntos).\n",
    "\n",
    "Romeo está enamorado de Julieta, pero en este caso, Julieta tiene sentimientos volubles. Mientras Romeo más la ama, ella quiere huir de él. Pero cuando Romeo no muestra atención, Julieta lo empieza a ver muy atractivo.\n",
    "\n",
    "Del otro lado, Romeo tiene sentimientos imitativos. Esto quiere decir que se pone cariñoso cuando ella lo ama y se vuelve frío cuando ella lo odia.\n",
    "\n",
    "Sean:\n",
    "\n",
    "- $x_1(t)$ : amor/odio de Romeo hacia Julieta en el tiempo  $t$ .\n",
    "- $x_2(t)$ : amor/odio de Julieta hacia Romeo en el tiempo  $t$ .\n",
    "\n",
    "Consideraremos que un valor positivo de  $x_1$  o  $x_2$  corresponde a amor, y que un valor negativo corresponde a odio.\n",
    "\n",
    "Un modelo del romance anteriormente descrito es\n",
    "$$ \\frac{dx_1}{dt}=ax_2,$$\n",
    "$$ \\frac{dx_2}{dt}=−bx_1$$\n",
    " \n",
    "con  $a$  y  $b$  constantes positivas. Definimos  $x=[x_1,x_2]^T.\n",
    "\n",
    "1. (20 puntos) Simular este sistema eligiendo los parámetros  $a=b=1$  y condiciones iniciales  $x(0)=[x1(0),x2(0)]^T=[5,5]^T$, usando un vector de tiempo de $0$ a $50$ (unidades de tiempo).\n",
    "2. (15 puntos)\n",
    "    - (10 puntos) Graficar las soluciones en el tiempo, es decir,  $x_1$  vs. $t$  y  $x_2$ vs  $t$.  \n",
    "    - (5 puntos) ¿Qué forma tienen dichas soluciones? ¿Qué se puede decir del amor/odio de Romeo hacia Julieta? ¿Qué se puede decir del amor/odio de Julieta hacia Romeo?\n",
    "3. (15 puntos)\n",
    "    - (10 puntos) Graficar el retrato de fase, es decir,  $x_2$  vs  $x_1$.\n",
    "    - (5 puntos) ¿Cómo es el amor de Romeo y Julieta? ¿Considera usted sano este tipo de amor?"
   ]
  },
  {
   "cell_type": "code",
   "execution_count": 1,
   "metadata": {
    "collapsed": true
   },
   "outputs": [],
   "source": [
    "\n",
    "import matplotlib.pyplot as plt\n",
    "import numpy as np\n",
    "from scipy.integrate import odeint \n",
    "%matplotlib inline"
   ]
  },
  {
   "cell_type": "code",
   "execution_count": 26,
   "metadata": {},
   "outputs": [
    {
     "name": "stdout",
     "output_type": "stream",
     "text": [
      "[[ 5.          5.        ]\n",
      " [ 6.87669824 -1.64651735]\n",
      " [ 2.19327542 -6.72231639]\n",
      " [-4.58245246 -5.38526922]\n",
      " [-6.98668684  1.08912974]\n",
      " [-2.72587506  6.52453857]\n",
      " [ 4.13532287  5.73577396]\n",
      " [ 7.05157269 -0.52471122]\n",
      " [ 3.24087755 -6.28464098]\n",
      " [-3.66149727 -6.04925093]\n",
      " [-7.07093654 -0.04309471]\n",
      " [-3.73495846  6.00417245]\n",
      " [ 3.16403478  6.32367661]\n",
      " [ 7.04465342  0.61062243]\n",
      " [ 4.20492808 -5.68494339]\n",
      " [-2.64614642 -6.55727938]\n",
      " [-6.97289314 -1.17420823]\n",
      " [-4.64775243  5.32901511]\n",
      " [ 2.11117579  6.74855106]\n",
      " [ 6.85611882  1.73021376]\n",
      " [ 5.06057282 -4.93868483]\n",
      " [-1.56257638 -6.89625703]\n",
      " [-6.69508432 -2.27504985]\n",
      " [-5.44072448  4.51647235]\n",
      " [ 1.00388942  6.99944379]\n",
      " [ 6.49082928  2.80519929]\n",
      " [ 5.78575314 -4.0651038 ]\n",
      " [-0.43872181 -7.05744508]\n",
      " [-6.24467212 -3.3172396 ]\n",
      " [-6.09343157  3.58749241]\n",
      " [-0.12927795  7.06988665]\n",
      " [ 5.95820224  3.80786516]\n",
      " [ 6.36177329 -3.08672182]\n",
      " [ 0.69644306 -7.03668803]\n",
      " [-5.63326865 -4.27390872]\n",
      " [-6.58904617  2.56602473]\n",
      " [-1.25911237  6.95806352]\n",
      " [ 5.27196899  4.71236189]\n",
      " [ 6.77378295 -2.02876217]\n",
      " [ 1.81365343 -6.83452073]\n",
      " [-4.87663591 -5.12039418]\n",
      " [-6.91479134  1.47840308]\n",
      " [-2.35648627  6.66685742]\n",
      " [ 4.44982144  5.49537141]\n",
      " [ 7.01116079 -0.91850003]\n",
      " [ 2.88410672 -6.45615569]\n",
      " [-3.99428057 -5.83487276]\n",
      " [-7.06226897  0.35266728]\n",
      " [-3.39310869  6.20377558]\n",
      " [ 3.51295447  6.13670683]]\n"
     ]
    }
   ],
   "source": [
    "def sistema_ec (x_0, t):\n",
    "    x_1 = x_0[0]\n",
    "    x_2 = x_0[1]\n",
    "    return ([a*(x_2), -b*(x_1)])\n",
    "\n",
    "a, b = 1, 1\n",
    "\n",
    "\n",
    "t = np.linspace(0, 50)\n",
    "x_0 = [5,5]\n",
    "resultado = odeint(sistema_ec, x_0, t)\n",
    "\n",
    "\n",
    "print (resultado)"
   ]
  },
  {
   "cell_type": "code",
   "execution_count": 27,
   "metadata": {},
   "outputs": [
    {
     "ename": "NameError",
     "evalue": "name 'CC' is not defined",
     "output_type": "error",
     "traceback": [
      "\u001b[0;31m---------------------------------------------------------------------------\u001b[0m",
      "\u001b[0;31mNameError\u001b[0m                                 Traceback (most recent call last)",
      "\u001b[0;32m<ipython-input-27-5d2b0989ea99>\u001b[0m in \u001b[0;36m<module>\u001b[0;34m()\u001b[0m\n\u001b[1;32m      1\u001b[0m \u001b[0;34m\u001b[0m\u001b[0m\n\u001b[0;32m----> 2\u001b[0;31m \u001b[0mplt\u001b[0m\u001b[0;34m.\u001b[0m\u001b[0mplot\u001b[0m\u001b[0;34m(\u001b[0m\u001b[0mtt\u001b[0m\u001b[0;34m,\u001b[0m \u001b[0mCC\u001b[0m\u001b[0;34m,\u001b[0m\u001b[0;34m'-'\u001b[0m\u001b[0;34m,\u001b[0m\u001b[0mlinewidth\u001b[0m\u001b[0;34m=\u001b[0m\u001b[0;36m3.0\u001b[0m\u001b[0;34m)\u001b[0m          \u001b[0;31m# Se grafica la evolución de los capitales\u001b[0m\u001b[0;34m\u001b[0m\u001b[0m\n\u001b[0m\u001b[1;32m      3\u001b[0m \u001b[0mplt\u001b[0m\u001b[0;34m.\u001b[0m\u001b[0mplot\u001b[0m\u001b[0;34m(\u001b[0m\u001b[0mtt\u001b[0m\u001b[0;34m,\u001b[0m\u001b[0mmeta\u001b[0m\u001b[0;34m*\u001b[0m\u001b[0mnp\u001b[0m\u001b[0;34m.\u001b[0m\u001b[0mones\u001b[0m\u001b[0;34m(\u001b[0m\u001b[0mlen\u001b[0m\u001b[0;34m(\u001b[0m\u001b[0mtt\u001b[0m\u001b[0;34m)\u001b[0m\u001b[0;34m)\u001b[0m\u001b[0;34m,\u001b[0m\u001b[0;34m'--k'\u001b[0m\u001b[0;34m)\u001b[0m    \u001b[0;31m# Se grafica la meta\u001b[0m\u001b[0;34m\u001b[0m\u001b[0m\n\u001b[1;32m      4\u001b[0m \u001b[0mplt\u001b[0m\u001b[0;34m.\u001b[0m\u001b[0mxlabel\u001b[0m\u001b[0;34m(\u001b[0m\u001b[0;34m't'\u001b[0m\u001b[0;34m)\u001b[0m                             \u001b[0;31m# Etiqueta eje x\u001b[0m\u001b[0;34m\u001b[0m\u001b[0m\n\u001b[1;32m      5\u001b[0m \u001b[0mplt\u001b[0m\u001b[0;34m.\u001b[0m\u001b[0mylabel\u001b[0m\u001b[0;34m(\u001b[0m\u001b[0;34m'C(t)'\u001b[0m\u001b[0;34m)\u001b[0m                          \u001b[0;31m# Etiqueta eje y\u001b[0m\u001b[0;34m\u001b[0m\u001b[0m\n",
      "\u001b[0;31mNameError\u001b[0m: name 'CC' is not defined"
     ]
    }
   ],
   "source": [
    "\n",
    "plt.plot(tt, CC,'-',linewidth=3.0)          # Se grafica la evolución de los capitales\n",
    "plt.plot(tt,meta*np.ones(len(tt)),'--k')    # Se grafica la meta\n",
    "plt.xlabel('t')                             # Etiqueta eje x\n",
    "plt.ylabel('C(t)')                          # Etiqueta eje y\n",
    "plt.grid(True)                              # Malla en la gráfica\n",
    "plt.show()     "
   ]
  },
  {
   "cell_type": "code",
   "execution_count": null,
   "metadata": {
    "collapsed": true
   },
   "outputs": [],
   "source": []
  },
  {
   "cell_type": "code",
   "execution_count": null,
   "metadata": {
    "collapsed": true
   },
   "outputs": [],
   "source": []
  },
  {
   "cell_type": "markdown",
   "metadata": {},
   "source": [
    "### Segundo punto.\n",
    "En este punto consideraremos a Romeo y a Julieta como dos amantes cautelosos idénticos.\n",
    "\n",
    "Entonces, un modelo que describe este romance es\n",
    "\n",
    "$$\\frac{dx_1}{dt} = -ax_1 + bx_2$$\n",
    "$$\\frac{dx_2}{dt} = bx_1 -ax_2$$\n",
    " \n",
    "con  $a$  y  $b$  constantes positivas. Definimos  $x=[x_1,x_2]^T$.\n",
    "\n",
    "Simular este sistema y obtener gráficas de  $x_1$  vs.  $t$ ,  $x_2$  vs.  $t$ y  $x_2$  vs.  $x_1$  en cada uno de los siguientes casos. Además, concluya acerca de cómo es el amor entre Romeo y Julieta cuando  $t \\rightarrow \\infty$.\n",
    "\n",
    "\n",
    "1. (25 puntos) Para  $a=2$  y  $b=1$.\n",
    "\n",
    "    - $x(0)=[x_1(0),x_2(0)]^T =[2,1]^T$.\n",
    "    - $x(0)=[x_1(0),x_2(0)]^T =[−2,1]^T$.\n",
    "    - $x(0)=[x_1(0),x_2(0)]^T =[−2,−1]^T$.\n",
    "    - $x(0)=[x_1(0),x_2(0)]^T =[2,−1]^T$.\n",
    "2. (25 puntos) Para  $a=1$  y  $b=2$.\n",
    "    - $x(0)=[x_1(0),x_2(0)]T=[2,1]^T$.\n",
    "    - $x(0)=[x_1(0),x_2(0)]T=[−2,1]^T$.\n",
    "    - $x(0)=[x_1(0),x_2(0)]T=[−2,−1]^T$.\n",
    "    - $x(0)=[x_1(0),x_2(0)]T=[2,−1]^T$."
   ]
  },
  {
   "cell_type": "code",
   "execution_count": null,
   "metadata": {
    "collapsed": true
   },
   "outputs": [],
   "source": []
  }
 ],
 "metadata": {
  "kernelspec": {
   "display_name": "Python 3",
   "language": "python",
   "name": "python3"
  },
  "language_info": {
   "codemirror_mode": {
    "name": "ipython",
    "version": 3
   },
   "file_extension": ".py",
   "mimetype": "text/x-python",
   "name": "python",
   "nbconvert_exporter": "python",
   "pygments_lexer": "ipython3",
   "version": "3.6.1"
  }
 },
 "nbformat": 4,
 "nbformat_minor": 2
}
