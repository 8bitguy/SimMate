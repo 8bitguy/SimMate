{
 "cells": [
  {
   "cell_type": "markdown",
   "metadata": {},
   "source": [
    "## Apalancamiento\n",
    "\n"
   ]
  },
  {
   "cell_type": "code",
   "execution_count": 14,
   "metadata": {
    "collapsed": true
   },
   "outputs": [],
   "source": [
    "%matplotlib inline\n",
    "\n",
    "import matplotlib.pylab as plt\n",
    "import numpy as np\n",
    "from sympy import *\n",
    "import pandas as pd\n",
    "from scipy import stats\n"
   ]
  },
  {
   "cell_type": "code",
   "execution_count": 31,
   "metadata": {},
   "outputs": [
    {
     "name": "stdout",
     "output_type": "stream",
     "text": [
      "Monto inicial: $10000 pesos.\n",
      "Pedí prestado: $1000.0 pesos.\n",
      "Invertí: $11000.0 pesos.\n",
      "Termine con: $12320.0 pesos.\n",
      "Pago prestamos: $1050.0 pesos.\n",
      "Monto final: $11270.0 pesos.\n",
      "Rendimiento: 12.7%\n"
     ]
    }
   ],
   "source": [
    "MontoInicial = 10000\n",
    "TasaPrestamo = .10 #20%\n",
    "Prestamo = MontoInicial * TasaPrestamo\n",
    "TasaInteres = .05 #5%\n",
    "\n",
    "\n",
    "#Disponible para invertir en SP500\n",
    "MontoDisponible = MontoInicial + Prestamo\n",
    "MontoDisponible\n",
    "#Rendimiento SP500 es 12%\n",
    "Rendimiento = .12\n",
    "\n",
    "#Pago del prestamo\n",
    "SubTotal = Rendimiento*MontoDisponible + MontoDisponible\n",
    "PagoPrestamo = Prestamo + TasaInteres * Prestamo #Pagar\n",
    "\n",
    "#Monto Final despues de pagar prestamo\n",
    "MontoFinal = SubTotal - PagoPrestamo\n",
    "\n",
    "#Tasa Rendimiento inversion\n",
    "Rendimiento = (MontoFinal - MontoInicial)/MontoInicial\n",
    "#13% porciento del renidimiento\n",
    "\n",
    "print(\"Monto inicial: $\" +str(MontoInicial)+\" pesos.\")\n",
    "print(\"Pedí prestado: $\" +str(Prestamo)+\" pesos.\")\n",
    "print(\"Invertí: $\" +str(MontoDisponible)+\" pesos.\")\n",
    "print(\"Termine con: $\" +str(SubTotal)+\" pesos.\")\n",
    "print(\"Pago prestamos: $\" +str(PagoPrestamo)+\" pesos.\")\n",
    "print(\"Monto final: $\" +str(MontoFinal)+\" pesos.\")\n",
    "print(\"Rendimiento: \" +str(Rendimiento*100)+\"%\")\n"
   ]
  },
  {
   "cell_type": "markdown",
   "metadata": {},
   "source": [
    "## La bolsa me daba un $12\\%$ un apalancamiento llegue a $12.7\\%$"
   ]
  },
  {
   "cell_type": "markdown",
   "metadata": {},
   "source": [
    "## Qué pasa si la bolsa cae un $30\\%$"
   ]
  },
  {
   "cell_type": "code",
   "execution_count": 32,
   "metadata": {},
   "outputs": [
    {
     "name": "stdout",
     "output_type": "stream",
     "text": [
      "Monto inicial: $10000 pesos.\n",
      "Pedí prestado: $1000.0 pesos.\n",
      "Invertí: $11000.0 pesos.\n",
      "Termine con: $7700.0 pesos.\n",
      "Pago prestamos: $1050.0 pesos.\n",
      "Monto final: $6650.0 pesos.\n",
      "Rendimiento: -33.5%\n"
     ]
    }
   ],
   "source": [
    "MontoInicial = 10000\n",
    "TasaPrestamo = .10 #20%\n",
    "Prestamo = MontoInicial * TasaPrestamo\n",
    "TasaInteres = .05 #5%\n",
    "\n",
    "\n",
    "#Disponible para invertir en SP500\n",
    "MontoDisponible = MontoInicial + Prestamo\n",
    "MontoDisponible\n",
    "#Rendimiento SP500 es 12%\n",
    "Rendimiento = -.30\n",
    "\n",
    "#Pago del prestamo\n",
    "SubTotal = Rendimiento*MontoDisponible + MontoDisponible\n",
    "PagoPrestamo = Prestamo + TasaInteres * Prestamo #Pagar\n",
    "\n",
    "#Monto Final despues de pagar prestamo\n",
    "MontoFinal = SubTotal - PagoPrestamo\n",
    "\n",
    "#Tasa Rendimiento inversion\n",
    "Rendimiento = (MontoFinal - MontoInicial)/MontoInicial\n",
    "#13% porciento del renidimiento\n",
    "\n",
    "print(\"Monto inicial: $\" +str(MontoInicial)+\" pesos.\")\n",
    "print(\"Pedí prestado: $\" +str(Prestamo)+\" pesos.\")\n",
    "print(\"Invertí: $\" +str(MontoDisponible)+\" pesos.\")\n",
    "print(\"Termine con: $\" +str(SubTotal)+\" pesos.\")\n",
    "print(\"Pago prestamos: $\" +str(PagoPrestamo)+\" pesos.\")\n",
    "print(\"Monto final: $\" +str(MontoFinal)+\" pesos.\")\n",
    "print(\"Rendimiento: \" +str(Rendimiento*100)+\"%\")\n"
   ]
  },
  {
   "cell_type": "markdown",
   "metadata": {},
   "source": [
    "## Modelar la distribucion de mis rendmientos en un año\n",
    "\n",
    "### Fuentes de riesgo ( o variables aleatorias)\n",
    "\n"
   ]
  },
  {
   "cell_type": "code",
   "execution_count": 58,
   "metadata": {},
   "outputs": [
    {
     "name": "stdout",
     "output_type": "stream",
     "text": [
      "Monto inicial: $10000 pesos.\n",
      "Pedí prestado: $1000.0 pesos.\n",
      "Invertí: $11000.0 pesos.\n",
      "Termine con: $14168.133112958483 pesos.\n",
      "Pago prestamos: $1050.0 pesos.\n",
      "Monto final: $13118.133112958483 pesos.\n",
      "Rendimiento: 31.181331129584834%\n"
     ]
    }
   ],
   "source": [
    "MontoInicial = 10000\n",
    "TasaPrestamo = .10 #20%\n",
    "Prestamo = MontoInicial * TasaPrestamo\n",
    "TasaInteres = .05 #5%\n",
    "\n",
    "\n",
    "#Disponible para invertir en SP500\n",
    "MontoDisponible = MontoInicial + Prestamo\n",
    "MontoDisponible\n",
    "#Rendimiento SP500 es 12%\n",
    "Rendimiento = np.random.normal(.12,.20)\n",
    "\n",
    "#Pago del prestamo\n",
    "SubTotal = Rendimiento*MontoDisponible + MontoDisponible\n",
    "PagoPrestamo = Prestamo + TasaInteres * Prestamo #Pagar\n",
    "\n",
    "#Monto Final despues de pagar prestamo\n",
    "MontoFinal = SubTotal - PagoPrestamo\n",
    "\n",
    "#Tasa Rendimiento inversion\n",
    "Rendimiento = (MontoFinal - MontoInicial)/MontoInicial\n",
    "#13% porciento del renidimiento\n",
    "\n",
    "print(\"Monto inicial: $\" +str(MontoInicial)+\" pesos.\")\n",
    "print(\"Pedí prestado: $\" +str(Prestamo)+\" pesos.\")\n",
    "print(\"Invertí: $\" +str(MontoDisponible)+\" pesos.\")\n",
    "print(\"Termine con: $\" +str(SubTotal)+\" pesos.\")\n",
    "print(\"Pago prestamos: $\" +str(PagoPrestamo)+\" pesos.\")\n",
    "print(\"Monto final: $\" +str(MontoFinal)+\" pesos.\")\n",
    "print(\"Rendimiento: \" +str(Rendimiento*100)+\"%\")"
   ]
  },
  {
   "cell_type": "markdown",
   "metadata": {},
   "source": [
    "### Los rendimientos de SP500 se distribuyen con una media de $12\\%$  y una distribución estándar de $.20$ "
   ]
  },
  {
   "cell_type": "code",
   "execution_count": 60,
   "metadata": {},
   "outputs": [
    {
     "data": {
      "text/plain": [
       "<matplotlib.text.Text at 0x11cad2ac8>"
      ]
     },
     "execution_count": 60,
     "metadata": {},
     "output_type": "execute_result"
    },
    {
     "data": {
      "image/png": "[encoded data removed]",
      "text/plain": [
       "<matplotlib.figure.Figure at 0x11caf9d30>"
      ]
     },
     "metadata": {},
     "output_type": "display_data"
    }
   ],
   "source": [
    "plt.hist(np.random.normal(.12,.20,10000), normed=True, bins=100);\n",
    "plt.ylabel('probabilidad')\n",
    "plt.xlabel('valores')\n"
   ]
  },
  {
   "cell_type": "code",
   "execution_count": 107,
   "metadata": {
    "collapsed": true
   },
   "outputs": [],
   "source": [
    "def SP500():\n",
    "    MontoInicial = 10000\n",
    "    TasaPrestamo = .8 #20%\n",
    "    Prestamo = MontoInicial * TasaPrestamo\n",
    "    TasaInteres = .05 #5%\n",
    "\n",
    "\n",
    "    #Disponible para invertir en SP500\n",
    "    MontoDisponible = MontoInicial + Prestamo\n",
    "    MontoDisponible\n",
    "    #Rendimiento SP500 es 12%\n",
    "    Rendimiento = np.random.normal(.12,.20)\n",
    "\n",
    "    #Pago del prestamo\n",
    "    SubTotal = Rendimiento*MontoDisponible + MontoDisponible\n",
    "    PagoPrestamo = Prestamo + TasaInteres * Prestamo #Pagar\n",
    "\n",
    "    #Monto Final despues de pagar prestamo\n",
    "    MontoFinal = SubTotal - PagoPrestamo\n",
    "\n",
    "    #Tasa Rendimiento inversion\n",
    "    Rendimiento = (MontoFinal - MontoInicial)/MontoInicial\n",
    "    #13% porciento del renidimiento\n",
    "    return Rendimiento"
   ]
  },
  {
   "cell_type": "code",
   "execution_count": 123,
   "metadata": {},
   "outputs": [
    {
     "name": "stdout",
     "output_type": "stream",
     "text": [
      "Rendimiento promedio: 17.4256638514%\n",
      "Rendimiento tiene una volatilidad: 35.9808505316%\n"
     ]
    }
   ],
   "source": [
    "N = 100000\n",
    "Rendimientos = np.zeros(N)\n",
    "\n",
    "for i,j in enumerate(Rendimientos):\n",
    "    Rendimientos[i]=SP500()\n",
    "    \n",
    "print(\"Rendimiento promedio: \" +str(np.mean(Rendimientos)*100)+\"%\")\n",
    "print(\"Rendimiento tiene una volatilidad: \" \n",
    "      +str(np.std(Rendimientos)*100)+\"%\")"
   ]
  },
  {
   "cell_type": "code",
   "execution_count": 117,
   "metadata": {},
   "outputs": [
    {
     "data": {
      "image/png": "[encoded data removed]",
      "text/plain": [
       "<matplotlib.figure.Figure at 0x120683d30>"
      ]
     },
     "metadata": {},
     "output_type": "display_data"
    }
   ],
   "source": [
    "plt.hist(Rendimientos, normed=True, bins=100);"
   ]
  },
  {
   "cell_type": "code",
   "execution_count": 127,
   "metadata": {},
   "outputs": [
    {
     "name": "stdout",
     "output_type": "stream",
     "text": [
      "Rendimiento promedio: 17.476069658%\n",
      "Rendimiento tiene una volatilidad: 36.1343416895%\n"
     ]
    },
    {
     "data": {
      "text/html": [
       "<div>\n",
       "<style>\n",
       "    .dataframe thead tr:only-child th {\n",
       "        text-align: right;\n",
       "    }\n",
       "\n",
       "    .dataframe thead th {\n",
       "        text-align: left;\n",
       "    }\n",
       "\n",
       "    .dataframe tbody tr th {\n",
       "        vertical-align: top;\n",
       "    }\n",
       "</style>\n",
       "<table border=\"1\" class=\"dataframe\">\n",
       "  <thead>\n",
       "    <tr style=\"text-align: right;\">\n",
       "      <th></th>\n",
       "      <th>0</th>\n",
       "      <th>1</th>\n",
       "    </tr>\n",
       "  </thead>\n",
       "  <tbody>\n",
       "    <tr>\n",
       "      <th>68%</th>\n",
       "      <td>-0.186583</td>\n",
       "      <td>0.536104</td>\n",
       "    </tr>\n",
       "    <tr>\n",
       "      <th>95%</th>\n",
       "      <td>-0.547926</td>\n",
       "      <td>0.897448</td>\n",
       "    </tr>\n",
       "    <tr>\n",
       "      <th>99%</th>\n",
       "      <td>-0.909270</td>\n",
       "      <td>1.258791</td>\n",
       "    </tr>\n",
       "  </tbody>\n",
       "</table>\n",
       "</div>"
      ],
      "text/plain": [
       "            0         1\n",
       "68% -0.186583  0.536104\n",
       "95% -0.547926  0.897448\n",
       "99% -0.909270  1.258791"
      ]
     },
     "execution_count": 127,
     "metadata": {},
     "output_type": "execute_result"
    },
    {
     "data": {
      "image/png": "[encoded data removed]",
      "text/plain": [
       "<matplotlib.figure.Figure at 0x1213d5e48>"
      ]
     },
     "metadata": {},
     "output_type": "display_data"
    }
   ],
   "source": [
    "N = 100000\n",
    "TasaPrestamo = .80\n",
    "Rendimientos = np.zeros(N)\n",
    "\n",
    "for i,j in enumerate(Rendimientos):\n",
    "    Rendimientos[i]=SP500()\n",
    "    \n",
    "print(\"Rendimiento promedio: \" +str(np.mean(Rendimientos)*100)+\"%\")\n",
    "print(\"Rendimiento tiene una volatilidad: \" \n",
    "      +str(np.std(Rendimientos)*100)+\"%\")\n",
    "plt.hist(Rendimientos, normed=True, bins=100);\n",
    "u =np.mean(Rendimientos)\n",
    "std = np.std(Rendimientos)\n",
    "df = pd.DataFrame([[u-std,u+std], [u-2*std,u+2*std], [u-3*std, u+3*std] ])\n",
    "df.index=[\"68%\", \"95%\", \"99%\"]\n",
    "df"
   ]
  },
  {
   "cell_type": "code",
   "execution_count": null,
   "metadata": {
    "collapsed": true
   },
   "outputs": [],
   "source": []
  }
 ],
 "metadata": {
  "kernelspec": {
   "display_name": "Python 3",
   "language": "python",
   "name": "python3"
  },
  "language_info": {
   "codemirror_mode": {
    "name": "ipython",
    "version": 3
   },
   "file_extension": ".py",
   "mimetype": "text/x-python",
   "name": "python",
   "nbconvert_exporter": "python",
   "pygments_lexer": "ipython3",
   "version": "3.6.1"
  }
 },
 "nbformat": 4,
 "nbformat_minor": 2
}
